{
  "nbformat": 4,
  "nbformat_minor": 0,
  "metadata": {
    "colab": {
      "name": "Homework2.ipynb",
      "provenance": [],
      "collapsed_sections": [],
      "authorship_tag": "ABX9TyOw0J0HFddsahC8iktfZjSU",
      "include_colab_link": true
    },
    "kernelspec": {
      "name": "python3",
      "display_name": "Python 3"
    },
    "language_info": {
      "name": "python"
    }
  },
  "cells": [
    {
      "cell_type": "markdown",
      "metadata": {
        "id": "view-in-github",
        "colab_type": "text"
      },
      "source": [
        "<a href=\"https://colab.research.google.com/github/EdwardGuerra25/EdwardGuerra25/blob/main/Homework2.ipynb\" target=\"_parent\"><img src=\"https://colab.research.google.com/assets/colab-badge.svg\" alt=\"Open In Colab\"/></a>"
      ]
    },
    {
      "cell_type": "code",
      "source": [
        "import numpy as np\n",
        "\n",
        "hi = [1.5, 2.2, 1.56, 1.78, 1.82, 1.90, 1.66, 1.91, 1.76, 1.88]\n",
        "print(\"Los porcentaje seria de :\", hi)\n",
        "print(\"la media de 10 datos es :\", np.mean(hi))"
      ],
      "metadata": {
        "colab": {
          "base_uri": "https://localhost:8080/"
        },
        "id": "bbmUSsbQ21YM",
        "outputId": "7d5da15b-ac7e-4bcc-d9d6-fb443ddff69f"
      },
      "execution_count": 20,
      "outputs": [
        {
          "output_type": "stream",
          "name": "stdout",
          "text": [
            "Los porcentaje seria de : [1.5, 2.2, 1.56, 1.78, 1.82, 1.9, 1.66, 1.91, 1.76, 1.88]\n",
            "la media de 10 datos es : 1.797\n"
          ]
        }
      ]
    },
    {
      "cell_type": "code",
      "source": [
        "import numpy as np\n",
        "\n",
        "love = [1.5, 2.2, 1.56, 1.78, 1.82, 1.90, 1.66, 1.91, 1.76, 1.88]\n",
        "print(\"La media es :\", love)\n",
        "print(\"la suma de los valores: \", np.mean(love))\n",
        "print(\"Desviacion media seria de :\", np.std(love))"
      ],
      "metadata": {
        "colab": {
          "base_uri": "https://localhost:8080/"
        },
        "outputId": "e3716a95-62f6-4a5a-b395-c0c2cbe55133",
        "id": "zYmddBMN_OYZ"
      },
      "execution_count": 21,
      "outputs": [
        {
          "output_type": "stream",
          "name": "stdout",
          "text": [
            "La media es : [1.5, 2.2, 1.56, 1.78, 1.82, 1.9, 1.66, 1.91, 1.76, 1.88]\n",
            "la suma de los valores:  1.797\n",
            "Desviacion media seria de : 0.1892115218479044\n"
          ]
        }
      ]
    },
    {
      "cell_type": "code",
      "source": [
        "import numpy as np\n",
        "\n",
        "love = [0.56744433976086,  0.6871979493457484, 0.8463706897561651, 0.31110389619407564, 0.23511891089708503, 0.6577102252485975, 0.6648803069356928, \n",
        "        0.49989209380778477, 0.023793000481246773, 0.8777416618364761, 0.45262683262543646, 0.6430419554811486, 0.06347145550399458, 0.10628535246898096,\n",
        "        0.13551828266629173, 0.7030802149078524, 0.8656176079542628, 0.3939640454664668, 0.5144582885753547, 0.6255032779041944]\n",
        "print(\"La media es :\", love)\n",
        "print(\"la suma de los valores: \", np.mean(love))\n",
        "print(\"Desviacion media seria de :\", np.std(love))\n",
        "print(\"Mediana:\", np.median(love))\n",
        "\n"
      ],
      "metadata": {
        "colab": {
          "base_uri": "https://localhost:8080/"
        },
        "id": "WRBxb5MP_ro0",
        "outputId": "321bc9c3-d7c5-49a0-b790-6de828aaf138"
      },
      "execution_count": 26,
      "outputs": [
        {
          "output_type": "stream",
          "name": "stdout",
          "text": [
            "La media es : [0.56744433976086, 0.6871979493457484, 0.8463706897561651, 0.31110389619407564, 0.23511891089708503, 0.6577102252485975, 0.6648803069356928, 0.49989209380778477, 0.023793000481246773, 0.8777416618364761, 0.45262683262543646, 0.6430419554811486, 0.06347145550399458, 0.10628535246898096, 0.13551828266629173, 0.7030802149078524, 0.8656176079542628, 0.3939640454664668, 0.5144582885753547, 0.6255032779041944]\n",
            "la suma de los valores:  0.49374101939088577\n",
            "Desviacion media seria de : 0.26357035986903965\n",
            "Mediana: 0.5409513141681073\n"
          ]
        }
      ]
    }
  ]
}