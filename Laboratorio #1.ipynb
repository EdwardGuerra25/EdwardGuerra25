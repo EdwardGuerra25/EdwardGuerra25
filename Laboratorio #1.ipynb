{
 "cells": [
  {
   "cell_type": "markdown",
   "id": "6e3e3247",
   "metadata": {},
   "source": [
    "# Laboratorio 1°\n",
    "## Edward Guerra 8-1005-1529 | Programacion de Ingenieros 2022-2"
   ]
  },
  {
   "cell_type": "code",
   "execution_count": 10,
   "id": "ae9f34b8",
   "metadata": {},
   "outputs": [],
   "source": [
    "#Problema 1"
   ]
  },
  {
   "cell_type": "code",
   "execution_count": 4,
   "id": "b32e84f3",
   "metadata": {},
   "outputs": [
    {
     "name": "stdout",
     "output_type": "stream",
     "text": [
      "194.87171000000012\n"
     ]
    }
   ],
   "source": [
    "Inversión=100 \n",
    "Años=7 \n",
    "InteresAnual=10 \n",
    "interesCompuesto= 100*(1+0.1)**7\n",
    "\n",
    "print(interesCompuesto)"
   ]
  },
  {
   "cell_type": "code",
   "execution_count": 11,
   "id": "f5a76399",
   "metadata": {},
   "outputs": [],
   "source": [
    "#Problema 2"
   ]
  },
  {
   "cell_type": "markdown",
   "id": "9bfbaa9e",
   "metadata": {},
   "source": [
    "ahorros=100 \n",
    "\n",
    "print(ahorros)"
   ]
  },
  {
   "cell_type": "code",
   "execution_count": null,
   "id": "dd668340",
   "metadata": {},
   "outputs": [],
   "source": [
    "#Problema 3"
   ]
  },
  {
   "cell_type": "code",
   "execution_count": 6,
   "id": "eb3c1133",
   "metadata": {},
   "outputs": [
    {
     "name": "stdout",
     "output_type": "stream",
     "text": [
      "194.87171000000012\n"
     ]
    }
   ],
   "source": [
    "ahorros= 100 \n",
    "mult_anual=float(1.1)\n",
    "resultado= ahorros*(mult_anual)**7 \n",
    "\n",
    "print(resultado)"
   ]
  },
  {
   "cell_type": "code",
   "execution_count": 12,
   "id": "88ac22c9",
   "metadata": {},
   "outputs": [],
   "source": [
    "#Problema 4"
   ]
  },
  {
   "cell_type": "code",
   "execution_count": 7,
   "id": "5455f224",
   "metadata": {},
   "outputs": [
    {
     "name": "stdout",
     "output_type": "stream",
     "text": [
      "cadena de texto\n",
      "True\n"
     ]
    }
   ],
   "source": [
    "desc=str(\"cadena de texto\")\n",
    "print(desc)\n",
    "profic=bool(True)\n",
    "\n",
    "print(bool(profic))"
   ]
  },
  {
   "cell_type": "code",
   "execution_count": 27,
   "id": "91db3b8e",
   "metadata": {},
   "outputs": [],
   "source": [
    "#Problema 5"
   ]
  },
  {
   "cell_type": "code",
   "execution_count": 8,
   "id": "3502c510",
   "metadata": {},
   "outputs": [
    {
     "name": "stdout",
     "output_type": "stream",
     "text": [
      "110.00000000000001\n",
      "<class 'float'>\n",
      "interes compuestointeres compuesto\n"
     ]
    }
   ],
   "source": [
    "ahorros = 100\n",
    "mult = float(1.1)\n",
    "desc = 'interes compuesto'\n",
    "\n",
    "año1= ahorros*(mult) \n",
    "print(año1)\n",
    "print(type(año1))\n",
    "\n",
    "dobledesc= desc + desc \n",
    "print(dobledesc)\n"
   ]
  },
  {
   "cell_type": "code",
   "execution_count": 13,
   "id": "6458ea29",
   "metadata": {},
   "outputs": [],
   "source": [
    "#Problema 6"
   ]
  },
  {
   "cell_type": "code",
   "execution_count": 20,
   "id": "2ceeb3c9",
   "metadata": {},
   "outputs": [
    {
     "name": "stdout",
     "output_type": "stream",
     "text": [
      "Empezamos con\n",
      "100\n",
      "y ahora tenemos\n",
      "194.87171000000012\n",
      "Que bien!\n"
     ]
    }
   ],
   "source": [
    "ahorros = 100\n",
    "resultado = 100*1.1**7\n",
    "print(\"Empezamos con\")\n",
    "print(100)\n",
    "print(\"y ahora tenemos\") \n",
    "print(float (194.87171000000012))\n",
    "print(\"Que bien!\")"
   ]
  },
  {
   "cell_type": "code",
   "execution_count": 26,
   "id": "9704c5ca",
   "metadata": {},
   "outputs": [
    {
     "name": "stdout",
     "output_type": "stream",
     "text": [
      "<class 'str'>\n",
      "3.1415926\n",
      "<class 'float'>\n"
     ]
    }
   ],
   "source": [
    "pi_string= \"3.1415926\" \n",
    "print(type(pi_string))\n",
    "\n",
    "pi_float= float(pi_string)\n",
    "print(pi_float)\n",
    "print(type(pi_float))"
   ]
  }
 ],
 "metadata": {
  "kernelspec": {
   "display_name": "Python 3 (ipykernel)",
   "language": "python",
   "name": "python3"
  },
  "language_info": {
   "codemirror_mode": {
    "name": "ipython",
    "version": 3
   },
   "file_extension": ".py",
   "mimetype": "text/x-python",
   "name": "python",
   "nbconvert_exporter": "python",
   "pygments_lexer": "ipython3",
   "version": "3.7.13"
  }
 },
 "nbformat": 4,
 "nbformat_minor": 5
}
